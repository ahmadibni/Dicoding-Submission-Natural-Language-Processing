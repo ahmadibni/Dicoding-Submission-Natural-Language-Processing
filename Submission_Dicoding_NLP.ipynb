{
  "nbformat": 4,
  "nbformat_minor": 0,
  "metadata": {
    "colab": {
      "provenance": []
    },
    "kernelspec": {
      "name": "python3",
      "display_name": "Python 3"
    },
    "language_info": {
      "name": "python"
    },
    "gpuClass": "standard"
  },
  "cells": [
    {
      "cell_type": "code",
      "source": [
        "import pandas as pd\n",
        "df = pd.read_csv('/content/Womens Clothing E-Commerce Reviews.csv')\n",
        "df.info()"
      ],
      "metadata": {
        "id": "Vq9tXzgc1bVG",
        "colab": {
          "base_uri": "https://localhost:8080/"
        },
        "outputId": "4437474e-4846-4ff9-c210-15c5e25e5c86"
      },
      "execution_count": 1,
      "outputs": [
        {
          "output_type": "stream",
          "name": "stdout",
          "text": [
            "<class 'pandas.core.frame.DataFrame'>\n",
            "RangeIndex: 23486 entries, 0 to 23485\n",
            "Data columns (total 11 columns):\n",
            " #   Column                   Non-Null Count  Dtype \n",
            "---  ------                   --------------  ----- \n",
            " 0   Unnamed: 0               23486 non-null  int64 \n",
            " 1   Clothing ID              23486 non-null  int64 \n",
            " 2   Age                      23486 non-null  int64 \n",
            " 3   Title                    19676 non-null  object\n",
            " 4   Review Text              22641 non-null  object\n",
            " 5   Rating                   23486 non-null  int64 \n",
            " 6   Recommended IND          23486 non-null  int64 \n",
            " 7   Positive Feedback Count  23486 non-null  int64 \n",
            " 8   Division Name            23472 non-null  object\n",
            " 9   Department Name          23472 non-null  object\n",
            " 10  Class Name               23472 non-null  object\n",
            "dtypes: int64(6), object(5)\n",
            "memory usage: 2.0+ MB\n"
          ]
        }
      ]
    },
    {
      "cell_type": "code",
      "source": [
        "df.drop(['Unnamed: 0', 'Clothing ID', 'Age', 'Title', 'Rating', 'Positive Feedback Count', 'Division Name', 'Department Name', 'Class Name'], axis=1, inplace=True)\n",
        "\n",
        "df.dropna(subset=['Review Text'], axis=0, inplace=True)\n",
        "df.dropna(subset=['Recommended IND'], axis=0, inplace=True)\n",
        "# df['Recommended IND'].astype(str)"
      ],
      "metadata": {
        "id": "NGmEHRb51lyG"
      },
      "execution_count": 2,
      "outputs": []
    },
    {
      "cell_type": "code",
      "source": [
        "# category = pd.get_dummies(df[\"Recommended IND\"])\n",
        "# df = pd.concat([df, category], axis=1)\n",
        "# df = df.drop(columns='Recommended IND')\n",
        "# df.rename(columns={0: 'Negative', 1:'Positive'}, inplace=True)\n",
        "df.head()"
      ],
      "metadata": {
        "colab": {
          "base_uri": "https://localhost:8080/",
          "height": 206
        },
        "id": "66DWd0_7wcw7",
        "outputId": "70d24326-bcd9-4716-95ec-ad6e32673dca"
      },
      "execution_count": 3,
      "outputs": [
        {
          "output_type": "execute_result",
          "data": {
            "text/plain": [
              "                                         Review Text  Recommended IND\n",
              "0  Absolutely wonderful - silky and sexy and comf...                1\n",
              "1  Love this dress!  it's sooo pretty.  i happene...                1\n",
              "2  I had such high hopes for this dress and reall...                0\n",
              "3  I love, love, love this jumpsuit. it's fun, fl...                1\n",
              "4  This shirt is very flattering to all due to th...                1"
            ],
            "text/html": [
              "\n",
              "  <div id=\"df-99685f3c-537c-4d01-b883-60df04726a6b\">\n",
              "    <div class=\"colab-df-container\">\n",
              "      <div>\n",
              "<style scoped>\n",
              "    .dataframe tbody tr th:only-of-type {\n",
              "        vertical-align: middle;\n",
              "    }\n",
              "\n",
              "    .dataframe tbody tr th {\n",
              "        vertical-align: top;\n",
              "    }\n",
              "\n",
              "    .dataframe thead th {\n",
              "        text-align: right;\n",
              "    }\n",
              "</style>\n",
              "<table border=\"1\" class=\"dataframe\">\n",
              "  <thead>\n",
              "    <tr style=\"text-align: right;\">\n",
              "      <th></th>\n",
              "      <th>Review Text</th>\n",
              "      <th>Recommended IND</th>\n",
              "    </tr>\n",
              "  </thead>\n",
              "  <tbody>\n",
              "    <tr>\n",
              "      <th>0</th>\n",
              "      <td>Absolutely wonderful - silky and sexy and comf...</td>\n",
              "      <td>1</td>\n",
              "    </tr>\n",
              "    <tr>\n",
              "      <th>1</th>\n",
              "      <td>Love this dress!  it's sooo pretty.  i happene...</td>\n",
              "      <td>1</td>\n",
              "    </tr>\n",
              "    <tr>\n",
              "      <th>2</th>\n",
              "      <td>I had such high hopes for this dress and reall...</td>\n",
              "      <td>0</td>\n",
              "    </tr>\n",
              "    <tr>\n",
              "      <th>3</th>\n",
              "      <td>I love, love, love this jumpsuit. it's fun, fl...</td>\n",
              "      <td>1</td>\n",
              "    </tr>\n",
              "    <tr>\n",
              "      <th>4</th>\n",
              "      <td>This shirt is very flattering to all due to th...</td>\n",
              "      <td>1</td>\n",
              "    </tr>\n",
              "  </tbody>\n",
              "</table>\n",
              "</div>\n",
              "      <button class=\"colab-df-convert\" onclick=\"convertToInteractive('df-99685f3c-537c-4d01-b883-60df04726a6b')\"\n",
              "              title=\"Convert this dataframe to an interactive table.\"\n",
              "              style=\"display:none;\">\n",
              "        \n",
              "  <svg xmlns=\"http://www.w3.org/2000/svg\" height=\"24px\"viewBox=\"0 0 24 24\"\n",
              "       width=\"24px\">\n",
              "    <path d=\"M0 0h24v24H0V0z\" fill=\"none\"/>\n",
              "    <path d=\"M18.56 5.44l.94 2.06.94-2.06 2.06-.94-2.06-.94-.94-2.06-.94 2.06-2.06.94zm-11 1L8.5 8.5l.94-2.06 2.06-.94-2.06-.94L8.5 2.5l-.94 2.06-2.06.94zm10 10l.94 2.06.94-2.06 2.06-.94-2.06-.94-.94-2.06-.94 2.06-2.06.94z\"/><path d=\"M17.41 7.96l-1.37-1.37c-.4-.4-.92-.59-1.43-.59-.52 0-1.04.2-1.43.59L10.3 9.45l-7.72 7.72c-.78.78-.78 2.05 0 2.83L4 21.41c.39.39.9.59 1.41.59.51 0 1.02-.2 1.41-.59l7.78-7.78 2.81-2.81c.8-.78.8-2.07 0-2.86zM5.41 20L4 18.59l7.72-7.72 1.47 1.35L5.41 20z\"/>\n",
              "  </svg>\n",
              "      </button>\n",
              "      \n",
              "  <style>\n",
              "    .colab-df-container {\n",
              "      display:flex;\n",
              "      flex-wrap:wrap;\n",
              "      gap: 12px;\n",
              "    }\n",
              "\n",
              "    .colab-df-convert {\n",
              "      background-color: #E8F0FE;\n",
              "      border: none;\n",
              "      border-radius: 50%;\n",
              "      cursor: pointer;\n",
              "      display: none;\n",
              "      fill: #1967D2;\n",
              "      height: 32px;\n",
              "      padding: 0 0 0 0;\n",
              "      width: 32px;\n",
              "    }\n",
              "\n",
              "    .colab-df-convert:hover {\n",
              "      background-color: #E2EBFA;\n",
              "      box-shadow: 0px 1px 2px rgba(60, 64, 67, 0.3), 0px 1px 3px 1px rgba(60, 64, 67, 0.15);\n",
              "      fill: #174EA6;\n",
              "    }\n",
              "\n",
              "    [theme=dark] .colab-df-convert {\n",
              "      background-color: #3B4455;\n",
              "      fill: #D2E3FC;\n",
              "    }\n",
              "\n",
              "    [theme=dark] .colab-df-convert:hover {\n",
              "      background-color: #434B5C;\n",
              "      box-shadow: 0px 1px 3px 1px rgba(0, 0, 0, 0.15);\n",
              "      filter: drop-shadow(0px 1px 2px rgba(0, 0, 0, 0.3));\n",
              "      fill: #FFFFFF;\n",
              "    }\n",
              "  </style>\n",
              "\n",
              "      <script>\n",
              "        const buttonEl =\n",
              "          document.querySelector('#df-99685f3c-537c-4d01-b883-60df04726a6b button.colab-df-convert');\n",
              "        buttonEl.style.display =\n",
              "          google.colab.kernel.accessAllowed ? 'block' : 'none';\n",
              "\n",
              "        async function convertToInteractive(key) {\n",
              "          const element = document.querySelector('#df-99685f3c-537c-4d01-b883-60df04726a6b');\n",
              "          const dataTable =\n",
              "            await google.colab.kernel.invokeFunction('convertToInteractive',\n",
              "                                                     [key], {});\n",
              "          if (!dataTable) return;\n",
              "\n",
              "          const docLinkHtml = 'Like what you see? Visit the ' +\n",
              "            '<a target=\"_blank\" href=https://colab.research.google.com/notebooks/data_table.ipynb>data table notebook</a>'\n",
              "            + ' to learn more about interactive tables.';\n",
              "          element.innerHTML = '';\n",
              "          dataTable['output_type'] = 'display_data';\n",
              "          await google.colab.output.renderOutput(dataTable, element);\n",
              "          const docLink = document.createElement('div');\n",
              "          docLink.innerHTML = docLinkHtml;\n",
              "          element.appendChild(docLink);\n",
              "        }\n",
              "      </script>\n",
              "    </div>\n",
              "  </div>\n",
              "  "
            ]
          },
          "metadata": {},
          "execution_count": 3
        }
      ]
    },
    {
      "cell_type": "code",
      "source": [
        "from sklearn.model_selection import train_test_split\n",
        "review = df['Review Text'].values\n",
        "label = df['Recommended IND'].values\n",
        "review_latih, review_test, y_latih, y_test = train_test_split(review, label, test_size=0.2)"
      ],
      "metadata": {
        "id": "xOVH_0tdS-5B"
      },
      "execution_count": 7,
      "outputs": []
    },
    {
      "cell_type": "code",
      "source": [
        "from tensorflow.keras.preprocessing.text import Tokenizer\n",
        "from tensorflow.keras.preprocessing.sequence import pad_sequences\n",
        " \n",
        "tokenizer = Tokenizer(num_words=5000, oov_token='-')\n",
        "tokenizer.fit_on_texts(review_latih) \n",
        "tokenizer.fit_on_texts(review_test)\n",
        " \n",
        "sekuens_latih = tokenizer.texts_to_sequences(review_latih)\n",
        "sekuens_test = tokenizer.texts_to_sequences(review_test)\n",
        " \n",
        "padded_latih = pad_sequences(sekuens_latih) \n",
        "padded_test = pad_sequences(sekuens_test)"
      ],
      "metadata": {
        "id": "ZZLdjMsC1okf"
      },
      "execution_count": 8,
      "outputs": []
    },
    {
      "cell_type": "code",
      "source": [
        "import tensorflow as tf\n",
        "model = tf.keras.Sequential([\n",
        "    tf.keras.layers.Embedding(input_dim=5000, output_dim=16),\n",
        "    tf.keras.layers.LSTM(64),\n",
        "    tf.keras.layers.Dropout(0.5),\n",
        "    tf.keras.layers.Dense(128, activation='relu'),\n",
        "    tf.keras.layers.Dense(64, activation='relu'),\n",
        "    tf.keras.layers.Dense(1, activation='sigmoid')\n",
        "])\n",
        "model.compile(loss='binary_crossentropy',optimizer='adam',metrics=['accuracy'])\n",
        "model.summary()"
      ],
      "metadata": {
        "id": "7o5j5xIL1rr9",
        "colab": {
          "base_uri": "https://localhost:8080/"
        },
        "outputId": "6c3a2bc1-dbe0-483b-d421-040858a7e50d"
      },
      "execution_count": 12,
      "outputs": [
        {
          "output_type": "stream",
          "name": "stdout",
          "text": [
            "Model: \"sequential_1\"\n",
            "_________________________________________________________________\n",
            " Layer (type)                Output Shape              Param #   \n",
            "=================================================================\n",
            " embedding_1 (Embedding)     (None, None, 16)          80000     \n",
            "                                                                 \n",
            " lstm_1 (LSTM)               (None, 64)                20736     \n",
            "                                                                 \n",
            " dropout_1 (Dropout)         (None, 64)                0         \n",
            "                                                                 \n",
            " dense_3 (Dense)             (None, 128)               8320      \n",
            "                                                                 \n",
            " dense_4 (Dense)             (None, 64)                8256      \n",
            "                                                                 \n",
            " dense_5 (Dense)             (None, 1)                 65        \n",
            "                                                                 \n",
            "=================================================================\n",
            "Total params: 117,377\n",
            "Trainable params: 117,377\n",
            "Non-trainable params: 0\n",
            "_________________________________________________________________\n"
          ]
        }
      ]
    },
    {
      "cell_type": "code",
      "source": [
        "num_epochs = 30\n",
        "history = model.fit(padded_latih, \n",
        "                    y_latih, \n",
        "                    epochs=num_epochs, \n",
        "                    batch_size=32,\n",
        "                    validation_data=(padded_test, y_test), \n",
        "                    verbose=2)"
      ],
      "metadata": {
        "colab": {
          "base_uri": "https://localhost:8080/"
        },
        "id": "i-fqcL1V1uzg",
        "outputId": "10704d82-31e8-4bcb-89d3-16e90dd50749"
      },
      "execution_count": 16,
      "outputs": [
        {
          "output_type": "stream",
          "name": "stdout",
          "text": [
            "Epoch 1/30\n",
            "566/566 - 31s - loss: 0.0640 - accuracy: 0.9793 - val_loss: 0.5281 - val_accuracy: 0.8680 - 31s/epoch - 55ms/step\n",
            "Epoch 2/30\n",
            "566/566 - 32s - loss: 0.0557 - accuracy: 0.9806 - val_loss: 0.5191 - val_accuracy: 0.8680 - 32s/epoch - 56ms/step\n",
            "Epoch 3/30\n",
            "566/566 - 31s - loss: 0.0561 - accuracy: 0.9816 - val_loss: 0.4969 - val_accuracy: 0.8726 - 31s/epoch - 55ms/step\n",
            "Epoch 4/30\n",
            "566/566 - 31s - loss: 0.0462 - accuracy: 0.9849 - val_loss: 0.6003 - val_accuracy: 0.8563 - 31s/epoch - 55ms/step\n",
            "Epoch 5/30\n",
            "566/566 - 32s - loss: 0.0461 - accuracy: 0.9845 - val_loss: 0.5227 - val_accuracy: 0.8547 - 32s/epoch - 56ms/step\n",
            "Epoch 6/30\n",
            "566/566 - 33s - loss: 0.0383 - accuracy: 0.9874 - val_loss: 0.5788 - val_accuracy: 0.8669 - 33s/epoch - 59ms/step\n",
            "Epoch 7/30\n",
            "566/566 - 32s - loss: 0.0292 - accuracy: 0.9907 - val_loss: 0.6944 - val_accuracy: 0.8541 - 32s/epoch - 56ms/step\n",
            "Epoch 8/30\n",
            "566/566 - 32s - loss: 0.0328 - accuracy: 0.9895 - val_loss: 0.7004 - val_accuracy: 0.8629 - 32s/epoch - 56ms/step\n",
            "Epoch 9/30\n",
            "566/566 - 32s - loss: 0.0313 - accuracy: 0.9901 - val_loss: 0.5912 - val_accuracy: 0.8662 - 32s/epoch - 56ms/step\n",
            "Epoch 10/30\n",
            "566/566 - 32s - loss: 0.0264 - accuracy: 0.9904 - val_loss: 0.6577 - val_accuracy: 0.8622 - 32s/epoch - 56ms/step\n",
            "Epoch 11/30\n",
            "566/566 - 32s - loss: 0.0212 - accuracy: 0.9933 - val_loss: 0.7567 - val_accuracy: 0.8589 - 32s/epoch - 56ms/step\n",
            "Epoch 12/30\n",
            "566/566 - 31s - loss: 0.0293 - accuracy: 0.9898 - val_loss: 0.7705 - val_accuracy: 0.8697 - 31s/epoch - 55ms/step\n",
            "Epoch 13/30\n",
            "566/566 - 31s - loss: 0.0168 - accuracy: 0.9943 - val_loss: 0.8605 - val_accuracy: 0.8585 - 31s/epoch - 55ms/step\n",
            "Epoch 14/30\n",
            "566/566 - 31s - loss: 0.0218 - accuracy: 0.9934 - val_loss: 0.8158 - val_accuracy: 0.8631 - 31s/epoch - 56ms/step\n",
            "Epoch 15/30\n",
            "566/566 - 32s - loss: 0.0174 - accuracy: 0.9945 - val_loss: 0.8195 - val_accuracy: 0.8529 - 32s/epoch - 57ms/step\n",
            "Epoch 16/30\n",
            "566/566 - 32s - loss: 0.0207 - accuracy: 0.9927 - val_loss: 0.7009 - val_accuracy: 0.8587 - 32s/epoch - 57ms/step\n",
            "Epoch 17/30\n",
            "566/566 - 32s - loss: 0.0121 - accuracy: 0.9962 - val_loss: 0.9660 - val_accuracy: 0.8435 - 32s/epoch - 56ms/step\n",
            "Epoch 18/30\n",
            "566/566 - 31s - loss: 0.0176 - accuracy: 0.9945 - val_loss: 0.7825 - val_accuracy: 0.8569 - 31s/epoch - 55ms/step\n",
            "Epoch 19/30\n",
            "566/566 - 31s - loss: 0.0121 - accuracy: 0.9963 - val_loss: 0.9509 - val_accuracy: 0.8605 - 31s/epoch - 55ms/step\n",
            "Epoch 20/30\n",
            "566/566 - 32s - loss: 0.0134 - accuracy: 0.9961 - val_loss: 0.8154 - val_accuracy: 0.8587 - 32s/epoch - 56ms/step\n",
            "Epoch 21/30\n",
            "566/566 - 31s - loss: 0.0128 - accuracy: 0.9960 - val_loss: 0.8879 - val_accuracy: 0.8613 - 31s/epoch - 55ms/step\n",
            "Epoch 22/30\n",
            "566/566 - 32s - loss: 0.0096 - accuracy: 0.9967 - val_loss: 1.0828 - val_accuracy: 0.8607 - 32s/epoch - 56ms/step\n",
            "Epoch 23/30\n",
            "566/566 - 31s - loss: 0.0117 - accuracy: 0.9965 - val_loss: 0.9243 - val_accuracy: 0.8618 - 31s/epoch - 56ms/step\n",
            "Epoch 24/30\n",
            "566/566 - 32s - loss: 0.0161 - accuracy: 0.9945 - val_loss: 0.8008 - val_accuracy: 0.8534 - 32s/epoch - 56ms/step\n",
            "Epoch 25/30\n",
            "566/566 - 33s - loss: 0.0157 - accuracy: 0.9953 - val_loss: 0.9320 - val_accuracy: 0.8543 - 33s/epoch - 57ms/step\n",
            "Epoch 26/30\n",
            "566/566 - 32s - loss: 0.0083 - accuracy: 0.9973 - val_loss: 0.8944 - val_accuracy: 0.8591 - 32s/epoch - 57ms/step\n",
            "Epoch 27/30\n",
            "566/566 - 31s - loss: 0.0113 - accuracy: 0.9966 - val_loss: 0.9588 - val_accuracy: 0.8682 - 31s/epoch - 55ms/step\n",
            "Epoch 28/30\n",
            "566/566 - 32s - loss: 0.0131 - accuracy: 0.9962 - val_loss: 0.8939 - val_accuracy: 0.8669 - 32s/epoch - 57ms/step\n",
            "Epoch 29/30\n",
            "566/566 - 31s - loss: 0.0081 - accuracy: 0.9977 - val_loss: 1.1947 - val_accuracy: 0.8574 - 31s/epoch - 55ms/step\n",
            "Epoch 30/30\n",
            "566/566 - 31s - loss: 0.0090 - accuracy: 0.9975 - val_loss: 0.9778 - val_accuracy: 0.8560 - 31s/epoch - 56ms/step\n"
          ]
        }
      ]
    }
  ]
}